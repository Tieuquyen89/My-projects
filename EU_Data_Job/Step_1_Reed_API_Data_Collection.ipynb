{
 "cells": [
  {
   "cell_type": "markdown",
   "metadata": {
    "id": "aH9cse9418R-"
   },
   "source": [
    "This is the first step of the project to collect data using API provided by website https://www.reed.co.uk/. Reasons are:\n",
    "1. Language barrier (My original project to get data from Germany, but my German is not so good to collect data \n",
    "2. Believe that the job requirements in the UK similar for other countries in Europe "
   ]
  },
  {
   "cell_type": "code",
   "execution_count": null,
   "metadata": {},
   "outputs": [],
   "source": [
    "#Step 1: Import library\n",
    "import requests\n",
    "import json\n",
    "from requests.auth import HTTPBasicAuth\n",
    "import pandas as pd\n",
    "from pandas.io.json import json_normalize"
   ]
  },
  {
   "cell_type": "code",
   "execution_count": 2,
   "metadata": {
    "id": "gv5TFwr_18SX"
   },
   "outputs": [],
   "source": [
    "#Step 2: API key (register via website https://www.reed.co.uk/developers/jobseeker)\n",
    "keyVal='xxxxx' #insert your API Key here\n",
    "auth = HTTPBasicAuth(keyVal, '')"
   ]
  },
  {
   "cell_type": "code",
   "execution_count": 3,
   "metadata": {
    "id": "Un_eFvEe18Sc"
   },
   "outputs": [],
   "source": [
    "# Step 3: Get data\n",
    "df = pd.DataFrame([])\n",
    "for skip_number in (0, 9000, 10):\n",
    "    api_endpoint=f'https://www.reed.co.uk/api/1.0/search?keywords=business-analyst&resultsToSkip={skip_number}' #insert your keywords\n",
    "    data=requests.get(api_endpoint, auth=auth).json()\n",
    "    df_new = pd.json_normalize(data['results'])\n",
    "    df = pd.concat([df, df_new])"
   ]
  },
  {
   "cell_type": "code",
   "execution_count": 4,
   "metadata": {
    "colab": {
     "base_uri": "https://localhost:8080/"
    },
    "id": "Lfbc9bA718Si",
    "outputId": "fc6c0717-cd53-4779-f6e9-85ad5123fc1e"
   },
   "outputs": [
    {
     "data": {
      "text/plain": [
       "dict_keys(['results', 'ambiguousLocations', 'totalResults'])"
      ]
     },
     "execution_count": 4,
     "metadata": {},
     "output_type": "execute_result"
    }
   ],
   "source": [
    "data.keys()"
   ]
  },
  {
   "cell_type": "code",
   "execution_count": 5,
   "metadata": {
    "colab": {
     "base_uri": "https://localhost:8080/"
    },
    "id": "E9KU1M-c18Sl",
    "outputId": "d09ff5d4-e01e-4eeb-a734-f3c2f36c9d76"
   },
   "outputs": [
    {
     "data": {
      "text/plain": [
       "jobTitle          200\n",
       "jobDescription    200\n",
       "dtype: int64"
      ]
     },
     "execution_count": 5,
     "metadata": {},
     "output_type": "execute_result"
    }
   ],
   "source": [
    "df=df[['jobTitle','jobDescription']]\n",
    "df.count()"
   ]
  },
  {
   "cell_type": "code",
   "execution_count": null,
   "metadata": {
    "id": "e1saGQwG18Sq"
   },
   "outputs": [],
   "source": [
    "# Step 4: save data\n",
    "df.to_csv('API_data/business_analyst.csv') #your choice to choose csv or importing directly to your database or cloud "
   ]
  }
 ],
 "metadata": {
  "colab": {
   "collapsed_sections": [],
   "name": "Reed API .ipynb",
   "provenance": []
  },
  "kernelspec": {
   "display_name": "Python 3",
   "language": "python",
   "name": "python3"
  },
  "language_info": {
   "codemirror_mode": {
    "name": "ipython",
    "version": 3
   },
   "file_extension": ".py",
   "mimetype": "text/x-python",
   "name": "python",
   "nbconvert_exporter": "python",
   "pygments_lexer": "ipython3",
   "version": "3.7.6"
  }
 },
 "nbformat": 4,
 "nbformat_minor": 1
}
