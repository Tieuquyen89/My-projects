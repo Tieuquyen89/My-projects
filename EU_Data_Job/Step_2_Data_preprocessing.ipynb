{
 "cells": [
  {
   "cell_type": "markdown",
   "metadata": {
    "id": "Id-MDU312xUq"
   },
   "source": [
    "This is the second step to process data. Good news that API data collection does not include HTML tag so we can save time for data cleaning. Below is some simple processing data to merge all files "
   ]
  },
  {
   "cell_type": "code",
   "execution_count": null,
   "metadata": {},
   "outputs": [],
   "source": [
    "#Import library to combine/merge csv files\n",
    "import os, glob\n",
    "import pandas as pd\n",
    "import numpy as np"
   ]
  },
  {
   "cell_type": "code",
   "execution_count": null,
   "metadata": {
    "id": "5yseJl9Q2xU4"
   },
   "outputs": [],
   "source": [
    "# Merge all csv files into 1 \n",
    "path = \"C:/Users/ADMIN/.../API_data\" # your path that save csv files that collected from API \n",
    "all_files = glob.glob(os.path.join(path, \"*.csv\"))\n",
    "df_from_each_file = (pd.read_csv(f, sep=',') for f in all_files)\n",
    "data_merged  = pd.concat(df_from_each_file, ignore_index=True)\n",
    "data_merged.drop(['Unnamed: 0'] , axis='columns', inplace=True)\n",
    "data_merged= data_merged.drop_duplicates()"
   ]
  },
  {
   "cell_type": "code",
   "execution_count": null,
   "metadata": {
    "id": "nRaGFr5S2xU7",
    "outputId": "a87cd59c-4388-41d9-fa2c-8462606abef5"
   },
   "outputs": [
    {
     "data": {
      "text/plain": [
       "jobTitle          1226\n",
       "jobDescription    1226\n",
       "dtype: int64"
      ]
     },
     "execution_count": 29,
     "metadata": {},
     "output_type": "execute_result"
    }
   ],
   "source": [
    "data_merged.count()"
   ]
  },
  {
   "cell_type": "code",
   "execution_count": null,
   "metadata": {
    "id": "g3XYPpMS2xU_"
   },
   "outputs": [],
   "source": [
    "# Save data \n",
    "data_merged.to_csv('API_data/reed_data.csv') # Your choice to save it in local or cloud (database)"
   ]
  }
 ],
 "metadata": {
  "colab": {
   "name": "Data_preprocessing-Copy1.ipynb",
   "provenance": []
  },
  "kernelspec": {
   "display_name": "Python 3",
   "language": "python",
   "name": "python3"
  },
  "language_info": {
   "codemirror_mode": {
    "name": "ipython",
    "version": 3
   },
   "file_extension": ".py",
   "mimetype": "text/x-python",
   "name": "python",
   "nbconvert_exporter": "python",
   "pygments_lexer": "ipython3",
   "version": "3.7.6"
  }
 },
 "nbformat": 4,
 "nbformat_minor": 1
}
