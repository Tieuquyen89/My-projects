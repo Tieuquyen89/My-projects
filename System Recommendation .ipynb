{
 "cells": [
  {
   "cell_type": "markdown",
   "metadata": {},
   "source": [
    "## System of Recommendation "
   ]
  },
  {
   "cell_type": "code",
   "execution_count": 2,
   "metadata": {},
   "outputs": [],
   "source": [
    "from sklearn.feature_extraction import DictVectorizer\n",
    "from sklearn.feature_extraction.text import CountVectorizer\n",
    "from sklearn.model_selection import train_test_split\n",
    "from sklearn.feature_extraction.text import TfidfVectorizer\n",
    "from nltk.stem.snowball import SnowballStemmer\n",
    "from sklearn.model_selection import train_test_split\n",
    "from sklearn.decomposition import PCA\n",
    "from sklearn.preprocessing import StandardScaler\n",
    "from sklearn.metrics.pairwise import cosine_similarity, linear_kernel\n",
    "import nltk\n",
    "from nltk.corpus import stopwords\n",
    "from sklearn.preprocessing import LabelEncoder\n",
    "from sklearn.mixture import GaussianMixture\n",
    "from sklearn.cluster import KMeans\n",
    "from sklearn.metrics import accuracy_score, auc, roc_curve, roc_auc_score\n",
    "import pandas as pd\n",
    "import numpy as np"
   ]
  },
  {
   "cell_type": "markdown",
   "metadata": {},
   "source": [
    "### K-Mean Model"
   ]
  },
  {
   "cell_type": "code",
   "execution_count": 46,
   "metadata": {},
   "outputs": [
    {
     "data": {
      "text/html": [
       "<div>\n",
       "<style scoped>\n",
       "    .dataframe tbody tr th:only-of-type {\n",
       "        vertical-align: middle;\n",
       "    }\n",
       "\n",
       "    .dataframe tbody tr th {\n",
       "        vertical-align: top;\n",
       "    }\n",
       "\n",
       "    .dataframe thead th {\n",
       "        text-align: right;\n",
       "    }\n",
       "</style>\n",
       "<table border=\"1\" class=\"dataframe\">\n",
       "  <thead>\n",
       "    <tr style=\"text-align: right;\">\n",
       "      <th></th>\n",
       "      <th>Title</th>\n",
       "      <th>Company</th>\n",
       "      <th>Type</th>\n",
       "      <th>Location</th>\n",
       "      <th>Salary</th>\n",
       "      <th>Level</th>\n",
       "      <th>Industry_re</th>\n",
       "      <th>Experience_re</th>\n",
       "      <th>Description_re</th>\n",
       "      <th>Requirement _re</th>\n",
       "      <th>Benefit_re</th>\n",
       "    </tr>\n",
       "  </thead>\n",
       "  <tbody>\n",
       "    <tr>\n",
       "      <th>4738</th>\n",
       "      <td>[Dist 3] AI Engineer_Computer Vision_upto 2000 usd</td>\n",
       "      <td>Company Limited Wacontre</td>\n",
       "      <td>Permanent</td>\n",
       "      <td>Ho Chi Minh</td>\n",
       "      <td>1,000 - 2,000 USD</td>\n",
       "      <td>Experienced (Non - Manager)</td>\n",
       "      <td>IT-Software</td>\n",
       "      <td>2-5Years</td>\n",
       "      <td>Create Demo App to show the output of research on mobile / web   R &amp; amp; D / PoC / Report topics of the client or company   Support integrating AI Model for Dev team   Focus on Computer Vision Sound Recognition Data Analysis</td>\n",
       "      <td>Ability to develop models by trial and error AI to Achieve the purpose   Ability to print models AI implements web / mobile apps   Ability to Discuss &amp; amp; report in English   Over 1 year as AI Engineer   Proficient in Python C / C ++ programming language  Salary  up to $ 2,000  Working Time  Mon   Fri  8  30 ~ 17  35 (Lunch 11   55 ~ 13  00)  Other Benefits   + The 13th salary company HR trip and other attractive benefits  + Social insurance health yearly checking &amp; amp; Annual holidays good  3  WORKING ENVIRONMENT   + International &amp; amp; friendly working environment with professional Japanese / UK staff open minded Colleagues có make you more creative  + Tech seminars JP / EN classes are sponsored in the company  + Many opportunities for professional and personal growth by being approached by những technologies in projects  + fair evaluation based Delivery (salary Increased maximum of 300% as company record)  + Sports Activities (football badminton) is sponsored by a company to stay healthy  4  Become CHANCE tO HIGH VALUE ENGINEER   + You will be trained for sub language and skills (you can master two or more at Least technical skills ) + You will be trained for technologies trend  + You have many to join the technical seminar Chances inside &amp; amp; outside the company  + You will be a high value designer with a stable career with dynamic promotion &amp; amp; job opportunities  &lt;/ p</td>\n",
       "      <td>None</td>\n",
       "    </tr>\n",
       "    <tr>\n",
       "      <th>4739</th>\n",
       "      <td>Senior Python Engineer</td>\n",
       "      <td>TECHNOLOGY CORPORATION SOTA TEK</td>\n",
       "      <td>Permanent</td>\n",
       "      <td>Ha Noi</td>\n",
       "      <td>Competitive</td>\n",
       "      <td>Experienced (Non - Manager)</td>\n",
       "      <td>CustomerService</td>\n",
       "      <td>3-5Years</td>\n",
       "      <td></td>\n",
       "      <td>Must have · Bachelor degree or above in Computer Science or related majors with 5 years of similar experience in Python on developing commercial projects · Familiar with common used Algorithms and data structures cũng with design patterns and knowledge to apply added in your daily programming · Familiar with the architecture and practice of the distributed system · Passionate about software engineering energetic pursuit with high software quality and keep the pace with the cutting edge technology and best practices · Familiar with Django or other web frameworks  and know well about the HTTP protocol and the essential protocols in computer networking suits · Familiar with the database with good experience in using and tuning databases like MySQL / MongoDB / Redis etc  · Understand frontend technologies like Web iOS Android  RN etc · Familiar with Git and the conventions of committing / collaboration; Know Git; Flow like Git ; · Familiar with Agile practices Methodology and its flow and practice; Good communication skills and learning abilities ; · Knowledge about Machine Learning; Has experience with Deep Learning frameworks like TensorFlow or PyTorch  · Knowledge of virtualization and Containerization technology Nice to have · Experiences with the Large scale Distributed system is a plus · Familiar with Docker / K8S is a big plus · Contribution to the open source projects is a big plus  · Good English skills is a big plus  &lt;/ p</td>\n",
       "      <td>Laptop ,   Insurance ,   Travel ,   Allowances ,   Uniform ,   Incentive bonus ,   Healthcare ,   Training Scheme ,   Salary review ,   Business Expense ,   Seniority Allowance ,   Annual Leave ,   Sport Club</td>\n",
       "    </tr>\n",
       "    <tr>\n",
       "      <th>4740</th>\n",
       "      <td>AI Fullstack - Senior / Leader</td>\n",
       "      <td>JAC Recruitment Ltd Vietnam</td>\n",
       "      <td>Permanent</td>\n",
       "      <td>Ho Chi Minh</td>\n",
       "      <td>27 Mil - 40 Mil VND</td>\n",
       "      <td>Experienced (Non - Manager)</td>\n",
       "      <td>IT-Software</td>\n",
       "      <td>3-8Years</td>\n",
       "      <td>COMPANY OVERVIEWThe company's history and legacy Started in 2016 as a subsidiary company of the Group  The company works to create Valuable mobile content as well as services delivered through means clustering of application and Web for Japan market  With the original members of 20 People nào có grow More Than 100 members up to continue to grow and bright talents more  &lt;/br&gt; They are specialized in mobile content and services Creating smart có transform and TRANSCEND Customers' life  We design and develop our products using agile methods Bringing the best deliverable results to the table in the shortest amount of time  The company stands for an attitude  seeking a balance in excellence pragmatism and convenience for customers table  Location  Tan Binh District Career path  AI Fullstack Report Line  Manager Team size  10 JOB Responsibilities · Logical Thinking · Having much interested in new fields · Having attitude / mind to challenge new technology · Enthusiasm for Delivering joyful user experiences · At Least 5 years of experience in Industry as a Software Engineer in the Web · At Least 3 years of experience in Python experience · Strong experience with backend and frontend development experiences  · Strong actual experiences in DB related to performance  · Strong actual experiences in Cloud computing (AWS or Azure or GCP) · Ability to make test cases and test code for development  · Strong experience / skills for technical problem solving · Strong English Communication skills (Especially English speaking and Hearing skills) · Strong Experiences with CI / CD environment  \"]</td>\n",
       "      <td>JOB  S · Leadership skills for Managing the team (for Leader position) · Having attitude of Team work mind · Smooth Communication skill with team member · Experience for AI related technology · Experience for Mobile Development · Experience for Big Data is Strong Plus · Having interested with Mathematics Statistics · Experience for Agile Scrum Experience · No need Machine Learning skills for joining to MTI Technology as a engineer BENEFITS · Social insurance and other benefits under the labor law  · Health Insurance (PVI) for cả relatives (Family and children) · Annual health checkup for cả relatives (Family and children) · MVP Award (4 times / year) · Certificate allowances (Zend / Java / AWS / N1 3 /    ) · Birthday party / Newcomer party / Year end party / Holidays · Free lunch / Travel company / Workshop / Free parking  · Training for employees (Business skills / Technical Skill / BSE / PG / QC)  · New Year Bonus Interview   processes · 2 Rounds &lt;/ p</td>\n",
       "      <td>Laptop ,   Insurance ,   Allowances ,   Incentive bonus ,   Healthcare ,   Training Scheme ,   Salary review ,   Seniority Allowance ,   Annual Leave ,   Sport Club</td>\n",
       "    </tr>\n",
       "    <tr>\n",
       "      <th>4741</th>\n",
       "      <td>Expert and Quantitative Data Analysis - Superior Risk Policy</td>\n",
       "      <td>Construction Bank</td>\n",
       "      <td>Permanent</td>\n",
       "      <td>Ho Chi Minh</td>\n",
       "      <td>Competitive</td>\n",
       "      <td>Experienced (Non - Manager)</td>\n",
       "      <td>Banking</td>\n",
       "      <td>1-2Years</td>\n",
       "      <td></td>\n",
       "      <td></td>\n",
       "      <td>Insurance ,   Travel ,   Allowances ,   Uniform ,   Incentive bonus ,   Healthcare ,   Training Scheme ,   Salary review ,   Business Expense ,   Annual Leave</td>\n",
       "    </tr>\n",
       "    <tr>\n",
       "      <th>4742</th>\n",
       "      <td>Programming Software Engineer (C / C ++, Python)</td>\n",
       "      <td>Greystones Data System Co., Ltd. Vietnam</td>\n",
       "      <td>Not found</td>\n",
       "      <td>Ho Chi Minh</td>\n",
       "      <td>Negotiable</td>\n",
       "      <td>Staff</td>\n",
       "      <td>None</td>\n",
       "      <td>fresher</td>\n",
       "      <td>Programming C / C ++ Python</td>\n",
       "      <td>University degree specialized in information technology computer engineering electronic communication fields related thonghoac    Capable of programming in C / C ++ or Python  Forums   Ability to read Read and write reports in English  Forums   skills to work in high pressure Withstand group   in viec   Priority has experience working with the framework Qt Framework or C / C ++ equivalent tu   Priority has experience working with OpenCV library or libraries relatively tu   image processing Priority has experience working with a framework or frameworks Tensorflow similar machine learning  &lt;/br&gt; &lt; / br&gt; Welfare     Candidates will receive salary / bonus worthy of capacities    rewards individuals with outstanding achievements employee quarterly improvement initiative    Enjoy outstanding individuals last year    month salary bonus     Last year 13 14    Besides insurance regime according to regulations companies purchase health insurance (Bao Vietnam) for employees and 03 family members     Participate in team building activities tourists calendars annual picnic    Offers Free Lunch dinner milk fruit coffee pastries       Be trained to do work in a professional environment friendly energy and have access to new technology advancement opportunities viec   Having a business trip US Hong Kong China Singapore Malaysia      the opportunity to work with colleagues customers goods from many countries (US Hong Kong Thailand Canada    ) &lt;/ p</td>\n",
       "      <td>Laptop ,   Insurance ,   Travel ,   Allowances ,   Incentive bonus ,   Healthcare ,   Training Scheme ,   Salary review ,   Annual Leave</td>\n",
       "    </tr>\n",
       "  </tbody>\n",
       "</table>\n",
       "</div>"
      ],
      "text/plain": [
       "                                                             Title  \\\n",
       "4738  [Dist 3] AI Engineer_Computer Vision_upto 2000 usd             \n",
       "4739  Senior Python Engineer                                         \n",
       "4740  AI Fullstack - Senior / Leader                                 \n",
       "4741  Expert and Quantitative Data Analysis - Superior Risk Policy   \n",
       "4742  Programming Software Engineer (C / C ++, Python)               \n",
       "\n",
       "                                       Company       Type     Location  \\\n",
       "4738  Company Limited Wacontre                  Permanent  Ho Chi Minh   \n",
       "4739  TECHNOLOGY CORPORATION SOTA TEK           Permanent  Ha Noi        \n",
       "4740  JAC Recruitment Ltd Vietnam               Permanent  Ho Chi Minh   \n",
       "4741  Construction Bank                         Permanent  Ho Chi Minh   \n",
       "4742  Greystones Data System Co., Ltd. Vietnam  Not found  Ho Chi Minh   \n",
       "\n",
       "                   Salary                        Level      Industry_re  \\\n",
       "4738  1,000 - 2,000 USD    Experienced (Non - Manager)  IT-Software       \n",
       "4739  Competitive          Experienced (Non - Manager)  CustomerService   \n",
       "4740  27 Mil - 40 Mil VND  Experienced (Non - Manager)  IT-Software       \n",
       "4741  Competitive          Experienced (Non - Manager)  Banking           \n",
       "4742  Negotiable           Staff                        None              \n",
       "\n",
       "     Experience_re  \\\n",
       "4738  2-5Years       \n",
       "4739  3-5Years       \n",
       "4740  3-8Years       \n",
       "4741  1-2Years       \n",
       "4742  fresher        \n",
       "\n",
       "                                                                                                                                                                                                                                                                                                                                                                                                                                                                                                                                                                                                                                                                                                                                                                                                                                                                                                                                                                                                                                                                                                                                                                                                                                                                                                                                                                                                                                                                                                                                                                                                                                                           Description_re  \\\n",
       "4738     Create Demo App to show the output of research on mobile / web   R & amp; D / PoC / Report topics of the client or company   Support integrating AI Model for Dev team   Focus on Computer Vision Sound Recognition Data Analysis                                                                                                                                                                                                                                                                                                                                                                                                                                                                                                                                                                                                                                                                                                                                                                                                                                                                                                                                                                                                                                                                                                                                                                                                                                                                                                                                                                                                                                  \n",
       "4739                                                                                                                                                                                                                                                                                                                                                                                                                                                                                                                                                                                                                                                                                                                                                                                                                                                                                                                                                                                                                                                                                                                                                                                                                                                                                                                                                                                                                                                                                                                                                                                                                                                                        \n",
       "4740   COMPANY OVERVIEWThe company's history and legacy Started in 2016 as a subsidiary company of the Group  The company works to create Valuable mobile content as well as services delivered through means clustering of application and Web for Japan market  With the original members of 20 People nào có grow More Than 100 members up to continue to grow and bright talents more  </br> They are specialized in mobile content and services Creating smart có transform and TRANSCEND Customers' life  We design and develop our products using agile methods Bringing the best deliverable results to the table in the shortest amount of time  The company stands for an attitude  seeking a balance in excellence pragmatism and convenience for customers table  Location  Tan Binh District Career path  AI Fullstack Report Line  Manager Team size  10 JOB Responsibilities · Logical Thinking · Having much interested in new fields · Having attitude / mind to challenge new technology · Enthusiasm for Delivering joyful user experiences · At Least 5 years of experience in Industry as a Software Engineer in the Web · At Least 3 years of experience in Python experience · Strong experience with backend and frontend development experiences  · Strong actual experiences in DB related to performance  · Strong actual experiences in Cloud computing (AWS or Azure or GCP) · Ability to make test cases and test code for development  · Strong experience / skills for technical problem solving · Strong English Communication skills (Especially English speaking and Hearing skills) · Strong Experiences with CI / CD environment  \"]   \n",
       "4741                                                                                                                                                                                                                                                                                                                                                                                                                                                                                                                                                                                                                                                                                                                                                                                                                                                                                                                                                                                                                                                                                                                                                                                                                                                                                                                                                                                                                                                                                                                                                                                                                                                                        \n",
       "4742   Programming C / C ++ Python                                                                                                                                                                                                                                                                                                                                                                                                                                                                                                                                                                                                                                                                                                                                                                                                                                                                                                                                                                                                                                                                                                                                                                                                                                                                                                                                                                                                                                                                                                                                                                                                                                          \n",
       "\n",
       "                                                                                                                                                                                                                                                                                                                                                                                                                                                                                                                                                                                                                                                                                                                                                                                                                                                                                                                                                                                                                                                                                                                                                                                                                                                                                                                                                                                                                                                                                                          Requirement _re  \\\n",
       "4738     Ability to develop models by trial and error AI to Achieve the purpose   Ability to print models AI implements web / mobile apps   Ability to Discuss & amp; report in English   Over 1 year as AI Engineer   Proficient in Python C / C ++ programming language  Salary  up to $ 2,000  Working Time  Mon   Fri  8  30 ~ 17  35 (Lunch 11   55 ~ 13  00)  Other Benefits   + The 13th salary company HR trip and other attractive benefits  + Social insurance health yearly checking & amp; Annual holidays good  3  WORKING ENVIRONMENT   + International & amp; friendly working environment with professional Japanese / UK staff open minded Colleagues có make you more creative  + Tech seminars JP / EN classes are sponsored in the company  + Many opportunities for professional and personal growth by being approached by những technologies in projects  + fair evaluation based Delivery (salary Increased maximum of 300% as company record)  + Sports Activities (football badminton) is sponsored by a company to stay healthy  4  Become CHANCE tO HIGH VALUE ENGINEER   + You will be trained for sub language and skills (you can master two or more at Least technical skills ) + You will be trained for technologies trend  + You have many to join the technical seminar Chances inside & amp; outside the company  + You will be a high value designer with a stable career with dynamic promotion & amp; job opportunities  </ p                                                       \n",
       "4739   Must have · Bachelor degree or above in Computer Science or related majors with 5 years of similar experience in Python on developing commercial projects · Familiar with common used Algorithms and data structures cũng with design patterns and knowledge to apply added in your daily programming · Familiar with the architecture and practice of the distributed system · Passionate about software engineering energetic pursuit with high software quality and keep the pace with the cutting edge technology and best practices · Familiar with Django or other web frameworks  and know well about the HTTP protocol and the essential protocols in computer networking suits · Familiar with the database with good experience in using and tuning databases like MySQL / MongoDB / Redis etc  · Understand frontend technologies like Web iOS Android  RN etc · Familiar with Git and the conventions of committing / collaboration; Know Git; Flow like Git ; · Familiar with Agile practices Methodology and its flow and practice; Good communication skills and learning abilities ; · Knowledge about Machine Learning; Has experience with Deep Learning frameworks like TensorFlow or PyTorch  · Knowledge of virtualization and Containerization technology Nice to have · Experiences with the Large scale Distributed system is a plus · Familiar with Docker / K8S is a big plus · Contribution to the open source projects is a big plus  · Good English skills is a big plus  </ p          \n",
       "4740   JOB  S · Leadership skills for Managing the team (for Leader position) · Having attitude of Team work mind · Smooth Communication skill with team member · Experience for AI related technology · Experience for Mobile Development · Experience for Big Data is Strong Plus · Having interested with Mathematics Statistics · Experience for Agile Scrum Experience · No need Machine Learning skills for joining to MTI Technology as a engineer BENEFITS · Social insurance and other benefits under the labor law  · Health Insurance (PVI) for cả relatives (Family and children) · Annual health checkup for cả relatives (Family and children) · MVP Award (4 times / year) · Certificate allowances (Zend / Java / AWS / N1 3 /    ) · Birthday party / Newcomer party / Year end party / Holidays · Free lunch / Travel company / Workshop / Free parking  · Training for employees (Business skills / Technical Skill / BSE / PG / QC)  · New Year Bonus Interview   processes · 2 Rounds </ p                                                                                                                                                                                                                                                                                                                                                                                                                                                                                                             \n",
       "4741                                                                                                                                                                                                                                                                                                                                                                                                                                                                                                                                                                                                                                                                                                                                                                                                                                                                                                                                                                                                                                                                                                                                                                                                                                                                                                                                                                                                                                                                                                                        \n",
       "4742     University degree specialized in information technology computer engineering electronic communication fields related thonghoac    Capable of programming in C / C ++ or Python  Forums   Ability to read Read and write reports in English  Forums   skills to work in high pressure Withstand group   in viec   Priority has experience working with the framework Qt Framework or C / C ++ equivalent tu   Priority has experience working with OpenCV library or libraries relatively tu   image processing Priority has experience working with a framework or frameworks Tensorflow similar machine learning  </br> < / br> Welfare     Candidates will receive salary / bonus worthy of capacities    rewards individuals with outstanding achievements employee quarterly improvement initiative    Enjoy outstanding individuals last year    month salary bonus     Last year 13 14    Besides insurance regime according to regulations companies purchase health insurance (Bao Vietnam) for employees and 03 family members     Participate in team building activities tourists calendars annual picnic    Offers Free Lunch dinner milk fruit coffee pastries       Be trained to do work in a professional environment friendly energy and have access to new technology advancement opportunities viec   Having a business trip US Hong Kong China Singapore Malaysia      the opportunity to work with colleagues customers goods from many countries (US Hong Kong Thailand Canada    ) </ p     \n",
       "\n",
       "                                                                                                                                                                                                               Benefit_re  \n",
       "4738  None                                                                                                                                                                                                                 \n",
       "4739    Laptop ,   Insurance ,   Travel ,   Allowances ,   Uniform ,   Incentive bonus ,   Healthcare ,   Training Scheme ,   Salary review ,   Business Expense ,   Seniority Allowance ,   Annual Leave ,   Sport Club   \n",
       "4740    Laptop ,   Insurance ,   Allowances ,   Incentive bonus ,   Healthcare ,   Training Scheme ,   Salary review ,   Seniority Allowance ,   Annual Leave ,   Sport Club                                               \n",
       "4741    Insurance ,   Travel ,   Allowances ,   Uniform ,   Incentive bonus ,   Healthcare ,   Training Scheme ,   Salary review ,   Business Expense ,   Annual Leave                                                     \n",
       "4742    Laptop ,   Insurance ,   Travel ,   Allowances ,   Incentive bonus ,   Healthcare ,   Training Scheme ,   Salary review ,   Annual Leave                                                                           "
      ]
     },
     "execution_count": 46,
     "metadata": {},
     "output_type": "execute_result"
    }
   ],
   "source": [
    "data=pd.read_csv('Final_Data_Career.csv')\n",
    "df_km=data.copy()\n",
    "df_km = df_km[df_km['Title'] != 'No Title']\n",
    "df_km = df_km[df_km['Company'] != 'No Name']\n",
    "df_km.tail()"
   ]
  },
  {
   "cell_type": "code",
   "execution_count": 6,
   "metadata": {},
   "outputs": [],
   "source": [
    "df_km_train=df_km[['Title','Industry_re','Experience_re','Location','Level']]"
   ]
  },
  {
   "cell_type": "code",
   "execution_count": 7,
   "metadata": {},
   "outputs": [
    {
     "data": {
      "text/plain": [
       "array([[0., 0., 0., ..., 0., 0., 0.],\n",
       "       [0., 0., 0., ..., 0., 0., 0.],\n",
       "       [0., 0., 0., ..., 0., 0., 0.],\n",
       "       ...,\n",
       "       [0., 0., 0., ..., 0., 0., 0.],\n",
       "       [0., 0., 0., ..., 0., 0., 0.],\n",
       "       [0., 0., 0., ..., 0., 0., 0.]])"
      ]
     },
     "execution_count": 7,
     "metadata": {},
     "output_type": "execute_result"
    }
   ],
   "source": [
    "from sklearn.preprocessing import OneHotEncoder\n",
    "onehot = OneHotEncoder()\n",
    "onehot = onehot.fit(df_km_train)\n",
    "df_km_onehot = onehot.transform(df_km_train).toarray()\n",
    "df_km_onehot"
   ]
  },
  {
   "cell_type": "code",
   "execution_count": 8,
   "metadata": {},
   "outputs": [
    {
     "data": {
      "text/plain": [
       "(4423, 3393)"
      ]
     },
     "execution_count": 8,
     "metadata": {},
     "output_type": "execute_result"
    }
   ],
   "source": [
    "df_km_onehot.shape"
   ]
  },
  {
   "cell_type": "code",
   "execution_count": 12,
   "metadata": {},
   "outputs": [
    {
     "data": {
      "image/png": "[encoded data removed]",
      "text/plain": [
       "<Figure size 432x288 with 1 Axes>"
      ]
     },
     "metadata": {
      "needs_background": "light"
     },
     "output_type": "display_data"
    }
   ],
   "source": [
    "# Trains a k-means model\n",
    "from sklearn.cluster import KMeans\n",
    "from sklearn.cluster import MiniBatchKMeans\n",
    "from scipy.spatial.distance import cdist\n",
    "from sklearn.cluster import KMeans\n",
    "import seaborn as sb\n",
    "import matplotlib.pyplot as plt\n",
    "\n",
    "distortions =[]\n",
    "K= range(2,15)\n",
    "for k in K:\n",
    "    kmeanModel = KMeans(n_clusters=k)\n",
    "    kmeanModel.fit(df_km_onehot)\n",
    "    distortions.append(sum(np.min(cdist(df_km_onehot, kmeanModel.cluster_centers_,\n",
    "                                       'euclidean'),axis=1))/df_km_onehot.shape[0])    \n",
    "plt.plot(K, distortions, 'bx-')\n",
    "plt.xlabel('k')\n",
    "plt.ylabel('Distortion')\n",
    "plt.title('The Elbow Method showing the optimal k')\n",
    "plt.show()\n"
   ]
  },
  {
   "cell_type": "code",
   "execution_count": 13,
   "metadata": {},
   "outputs": [
    {
     "name": "stdout",
     "output_type": "stream",
     "text": [
      "[[ 1.08420217e-18  1.41743444e-03  5.42101086e-19 ...  7.08717222e-04\n",
      "   6.24500451e-16  4.25230333e-03]\n",
      " [-1.02999206e-18 -1.02999206e-18 -5.14996032e-19 ... -4.11996826e-18\n",
      "   1.00000000e+00 -2.60208521e-18]\n",
      " [ 2.09863589e-03 -1.84314369e-18 -9.21571847e-19 ...  3.14795383e-03\n",
      "   3.05311332e-16  1.04931794e-03]\n",
      " ...\n",
      " [ 1.08420217e-19  1.08420217e-19  5.42101086e-20 ...  4.33680869e-19\n",
      "   4.16333634e-17 -6.50521303e-19]\n",
      " [-9.21571847e-19 -9.21571847e-19 -4.60785923e-19 ...  2.19298246e-03\n",
      "  -2.49800181e-16 -2.60208521e-18]\n",
      " [-5.42101086e-19 -5.42101086e-19 -2.71050543e-19 ... -2.16840434e-18\n",
      "  -2.35922393e-16 -2.60208521e-18]]\n",
      "[2 3 0 ... 0 6 5]\n"
     ]
    }
   ],
   "source": [
    "# Comment: choose k =8\n",
    "kmeans = KMeans(n_clusters=8)\n",
    "kmeans.fit(df_km_onehot)\n",
    "centroids = kmeans.cluster_centers_\n",
    "labels = kmeans.labels_\n",
    "print(centroids)\n",
    "print(labels)"
   ]
  },
  {
   "cell_type": "code",
   "execution_count": 16,
   "metadata": {},
   "outputs": [],
   "source": [
    "# Testing data: \n",
    "job_test= np.array([['AI Engineer','IT-Software','2-Years','Hai Duong','Entry Level']])"
   ]
  },
  {
   "cell_type": "code",
   "execution_count": 17,
   "metadata": {},
   "outputs": [
    {
     "data": {
      "text/plain": [
       "<1x3393 sparse matrix of type '<class 'numpy.float64'>'\n",
       "\twith 5 stored elements in Compressed Sparse Row format>"
      ]
     },
     "execution_count": 17,
     "metadata": {},
     "output_type": "execute_result"
    }
   ],
   "source": [
    "df_km_onehot_testing = onehot.transform(job_test)\n",
    "df_km_onehot_testing"
   ]
  },
  {
   "cell_type": "code",
   "execution_count": 18,
   "metadata": {},
   "outputs": [
    {
     "data": {
      "text/plain": [
       "array([0])"
      ]
     },
     "execution_count": 18,
     "metadata": {},
     "output_type": "execute_result"
    }
   ],
   "source": [
    "pred = kmeans.predict(df_km_onehot_testing)\n",
    "pred\n"
   ]
  },
  {
   "cell_type": "code",
   "execution_count": 19,
   "metadata": {},
   "outputs": [
    {
     "name": "stderr",
     "output_type": "stream",
     "text": [
      "C:\\Users\\ADMIN\\anaconda3\\lib\\site-packages\\ipykernel_launcher.py:1: SettingWithCopyWarning: \n",
      "A value is trying to be set on a copy of a slice from a DataFrame.\n",
      "Try using .loc[row_indexer,col_indexer] = value instead\n",
      "\n",
      "See the caveats in the documentation: https://pandas.pydata.org/pandas-docs/stable/user_guide/indexing.html#returning-a-view-versus-a-copy\n",
      "  \"\"\"Entry point for launching an IPython kernel.\n"
     ]
    },
    {
     "data": {
      "text/html": [
       "<div>\n",
       "<style scoped>\n",
       "    .dataframe tbody tr th:only-of-type {\n",
       "        vertical-align: middle;\n",
       "    }\n",
       "\n",
       "    .dataframe tbody tr th {\n",
       "        vertical-align: top;\n",
       "    }\n",
       "\n",
       "    .dataframe thead th {\n",
       "        text-align: right;\n",
       "    }\n",
       "</style>\n",
       "<table border=\"1\" class=\"dataframe\">\n",
       "  <thead>\n",
       "    <tr style=\"text-align: right;\">\n",
       "      <th></th>\n",
       "      <th>Title</th>\n",
       "      <th>Industry_re</th>\n",
       "      <th>Experience_re</th>\n",
       "      <th>Location</th>\n",
       "      <th>Level</th>\n",
       "      <th>Group</th>\n",
       "    </tr>\n",
       "  </thead>\n",
       "  <tbody>\n",
       "    <tr>\n",
       "      <th>0</th>\n",
       "      <td>AI Engineer</td>\n",
       "      <td>IT-Software</td>\n",
       "      <td>2-5Years</td>\n",
       "      <td>Ha Noi</td>\n",
       "      <td>Experienced (Non - Manager)</td>\n",
       "      <td>2.0</td>\n",
       "    </tr>\n",
       "    <tr>\n",
       "      <th>1</th>\n",
       "      <td>57 528 - AI Engineer</td>\n",
       "      <td>IT-Software</td>\n",
       "      <td>Experienced (Non - Manager)</td>\n",
       "      <td>Ha Noi</td>\n",
       "      <td>21/03/2021</td>\n",
       "      <td>3.0</td>\n",
       "    </tr>\n",
       "    <tr>\n",
       "      <th>2</th>\n",
       "      <td>57 980 - AI Engineer</td>\n",
       "      <td>IT-Software</td>\n",
       "      <td>1-Years</td>\n",
       "      <td>Ho Chi Minh</td>\n",
       "      <td>Experienced (Non - Manager)</td>\n",
       "      <td>0.0</td>\n",
       "    </tr>\n",
       "    <tr>\n",
       "      <th>3</th>\n",
       "      <td>AI Engineer</td>\n",
       "      <td>IT-Software</td>\n",
       "      <td>1-Years</td>\n",
       "      <td>Ha Noi</td>\n",
       "      <td>Experienced (Non - Manager)</td>\n",
       "      <td>2.0</td>\n",
       "    </tr>\n",
       "    <tr>\n",
       "      <th>4</th>\n",
       "      <td>AI Engineer</td>\n",
       "      <td>IT-Software</td>\n",
       "      <td>2-4Years</td>\n",
       "      <td>Ha Noi</td>\n",
       "      <td>Experienced (Non - Manager)</td>\n",
       "      <td>2.0</td>\n",
       "    </tr>\n",
       "  </tbody>\n",
       "</table>\n",
       "</div>"
      ],
      "text/plain": [
       "                  Title  Industry_re                Experience_re  \\\n",
       "0           AI Engineer  IT-Software                     2-5Years   \n",
       "1  57 528 - AI Engineer  IT-Software  Experienced (Non - Manager)   \n",
       "2  57 980 - AI Engineer  IT-Software                      1-Years   \n",
       "3           AI Engineer  IT-Software                      1-Years   \n",
       "4           AI Engineer  IT-Software                     2-4Years   \n",
       "\n",
       "      Location                        Level  Group  \n",
       "0       Ha Noi  Experienced (Non - Manager)    2.0  \n",
       "1       Ha Noi                   21/03/2021    3.0  \n",
       "2  Ho Chi Minh  Experienced (Non - Manager)    0.0  \n",
       "3       Ha Noi  Experienced (Non - Manager)    2.0  \n",
       "4       Ha Noi  Experienced (Non - Manager)    2.0  "
      ]
     },
     "execution_count": 19,
     "metadata": {},
     "output_type": "execute_result"
    }
   ],
   "source": [
    "df_km_train['Group'] = pd.Series(labels)\n",
    "df_km_train.head()"
   ]
  },
  {
   "cell_type": "code",
   "execution_count": 20,
   "metadata": {},
   "outputs": [
    {
     "data": {
      "text/html": [
       "<div>\n",
       "<style scoped>\n",
       "    .dataframe tbody tr th:only-of-type {\n",
       "        vertical-align: middle;\n",
       "    }\n",
       "\n",
       "    .dataframe tbody tr th {\n",
       "        vertical-align: top;\n",
       "    }\n",
       "\n",
       "    .dataframe thead th {\n",
       "        text-align: right;\n",
       "    }\n",
       "</style>\n",
       "<table border=\"1\" class=\"dataframe\">\n",
       "  <thead>\n",
       "    <tr style=\"text-align: right;\">\n",
       "      <th></th>\n",
       "      <th>Title</th>\n",
       "      <th>Industry_re</th>\n",
       "      <th>Experience_re</th>\n",
       "      <th>Location</th>\n",
       "      <th>Level</th>\n",
       "      <th>Group</th>\n",
       "    </tr>\n",
       "  </thead>\n",
       "  <tbody>\n",
       "    <tr>\n",
       "      <th>2</th>\n",
       "      <td>57 980 - AI Engineer</td>\n",
       "      <td>IT-Software</td>\n",
       "      <td>1-Years</td>\n",
       "      <td>Ho Chi Minh</td>\n",
       "      <td>Experienced (Non - Manager)</td>\n",
       "      <td>0.0</td>\n",
       "    </tr>\n",
       "    <tr>\n",
       "      <th>8</th>\n",
       "      <td>AI Fullstack - Senior / Leader</td>\n",
       "      <td>IT-Software</td>\n",
       "      <td>3-8Years</td>\n",
       "      <td>Ho Chi Minh</td>\n",
       "      <td>Experienced (Non - Manager)</td>\n",
       "      <td>0.0</td>\n",
       "    </tr>\n",
       "    <tr>\n",
       "      <th>10</th>\n",
       "      <td>[D.3 / HCM] AI Engineer</td>\n",
       "      <td>IT-Software</td>\n",
       "      <td>1-5Years</td>\n",
       "      <td>Ho Chi Minh</td>\n",
       "      <td>Experienced (Non - Manager)</td>\n",
       "      <td>0.0</td>\n",
       "    </tr>\n",
       "    <tr>\n",
       "      <th>11</th>\n",
       "      <td>[HCM] PROGRAMMING AI ~ 2000 USD</td>\n",
       "      <td>IT-Software</td>\n",
       "      <td>1-3Years</td>\n",
       "      <td>Ho Chi Minh</td>\n",
       "      <td>Experienced (Non - Manager)</td>\n",
       "      <td>0.0</td>\n",
       "    </tr>\n",
       "    <tr>\n",
       "      <th>12</th>\n",
       "      <td>[HCM] AI Engineer_Upto 2000 usd</td>\n",
       "      <td>Electrical/Electronics</td>\n",
       "      <td>1-5Years</td>\n",
       "      <td>Ho Chi Minh</td>\n",
       "      <td>Experienced (Non - Manager)</td>\n",
       "      <td>0.0</td>\n",
       "    </tr>\n",
       "  </tbody>\n",
       "</table>\n",
       "</div>"
      ],
      "text/plain": [
       "                              Title             Industry_re Experience_re  \\\n",
       "2              57 980 - AI Engineer             IT-Software       1-Years   \n",
       "8    AI Fullstack - Senior / Leader             IT-Software      3-8Years   \n",
       "10          [D.3 / HCM] AI Engineer             IT-Software      1-5Years   \n",
       "11  [HCM] PROGRAMMING AI ~ 2000 USD             IT-Software      1-3Years   \n",
       "12  [HCM] AI Engineer_Upto 2000 usd  Electrical/Electronics      1-5Years   \n",
       "\n",
       "       Location                        Level  Group  \n",
       "2   Ho Chi Minh  Experienced (Non - Manager)    0.0  \n",
       "8   Ho Chi Minh  Experienced (Non - Manager)    0.0  \n",
       "10  Ho Chi Minh  Experienced (Non - Manager)    0.0  \n",
       "11  Ho Chi Minh  Experienced (Non - Manager)    0.0  \n",
       "12  Ho Chi Minh  Experienced (Non - Manager)    0.0  "
      ]
     },
     "execution_count": 20,
     "metadata": {},
     "output_type": "execute_result"
    }
   ],
   "source": [
    "df_km_train = df_km_train[df_km_train['Group'] ==0]\n",
    "df_km_train.head()"
   ]
  },
  {
   "cell_type": "code",
   "execution_count": null,
   "metadata": {},
   "outputs": [],
   "source": []
  }
 ],
 "metadata": {
  "kernelspec": {
   "display_name": "Python 3",
   "language": "python",
   "name": "python3"
  },
  "language_info": {
   "codemirror_mode": {
    "name": "ipython",
    "version": 3
   },
   "file_extension": ".py",
   "mimetype": "text/x-python",
   "name": "python",
   "nbconvert_exporter": "python",
   "pygments_lexer": "ipython3",
   "version": "3.7.6"
  }
 },
 "nbformat": 4,
 "nbformat_minor": 4
}
