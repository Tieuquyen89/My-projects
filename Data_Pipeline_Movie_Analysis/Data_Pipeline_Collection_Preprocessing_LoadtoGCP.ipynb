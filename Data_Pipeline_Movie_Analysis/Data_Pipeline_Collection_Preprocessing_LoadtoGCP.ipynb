{
 "cells": [
  {
   "cell_type": "markdown",
   "metadata": {
    "colab": {
     "base_uri": "https://localhost:8080/"
    },
    "executionInfo": {
     "elapsed": 3934,
     "status": "ok",
     "timestamp": 1639480892488,
     "user": {
      "displayName": "Quyen Nguyen",
      "photoUrl": "https://lh3.googleusercontent.com/a-/AOh14GhpkAUupTi7RsS7zfzAyg0vOvpdmdpwXF5WSk27FQ=s64",
      "userId": "10971023543073407512"
     },
     "user_tz": -60
    },
    "id": "j4dCVmqCA-NI",
    "outputId": "39b4cc9a-9551-4e78-90b7-ebfcd1b7a726"
   },
   "source": [
    "## Set up "
   ]
  },
  {
   "cell_type": "code",
   "execution_count": null,
   "metadata": {},
   "outputs": [],
   "source": [
    "#pip install google-cloud-bigquery"
   ]
  },
  {
   "cell_type": "code",
   "execution_count": 21,
   "metadata": {
    "executionInfo": {
     "elapsed": 35,
     "status": "ok",
     "timestamp": 1639480892490,
     "user": {
      "displayName": "Quyen Nguyen",
      "photoUrl": "https://lh3.googleusercontent.com/a-/AOh14GhpkAUupTi7RsS7zfzAyg0vOvpdmdpwXF5WSk27FQ=s64",
      "userId": "10971023543073407512"
     },
     "user_tz": -60
    },
    "id": "KEIkIwqYBUE9"
   },
   "outputs": [],
   "source": [
    "from google.cloud import bigquery\n",
    "import os\n",
    "import pandas as pd\n",
    "import datetime as dt\n",
    "import numpy as np\n",
    "from pandas.io import gbq"
   ]
  },
  {
   "cell_type": "code",
   "execution_count": 22,
   "metadata": {
    "colab": {
     "base_uri": "https://localhost:8080/"
    },
    "executionInfo": {
     "elapsed": 2179,
     "status": "ok",
     "timestamp": 1639480894631,
     "user": {
      "displayName": "Quyen Nguyen",
      "photoUrl": "https://lh3.googleusercontent.com/a-/AOh14GhpkAUupTi7RsS7zfzAyg0vOvpdmdpwXF5WSk27FQ=s64",
      "userId": "10971023543073407512"
     },
     "user_tz": -60
    },
    "id": "Ucb0LlhCCSql",
    "outputId": "e0c0207c-7dad-43ff-8782-68124b6a25ae"
   },
   "outputs": [
    {
     "name": "stdout",
     "output_type": "stream",
     "text": [
      "Drive already mounted at /content/drive; to attempt to forcibly remount, call drive.mount(\"/content/drive\", force_remount=True).\n"
     ]
    }
   ],
   "source": [
    "from google.colab import drive\n",
    "drive.mount('/content/drive')"
   ]
  },
  {
   "cell_type": "code",
   "execution_count": 23,
   "metadata": {
    "colab": {
     "base_uri": "https://localhost:8080/"
    },
    "executionInfo": {
     "elapsed": 57,
     "status": "ok",
     "timestamp": 1639480894639,
     "user": {
      "displayName": "Quyen Nguyen",
      "photoUrl": "https://lh3.googleusercontent.com/a-/AOh14GhpkAUupTi7RsS7zfzAyg0vOvpdmdpwXF5WSk27FQ=s64",
      "userId": "10971023543073407512"
     },
     "user_tz": -60
    },
    "id": "6I4-BXfeDA1k",
    "outputId": "c99cace7-ce26-45b6-c1fc-6caef62b77aa"
   },
   "outputs": [
    {
     "name": "stdout",
     "output_type": "stream",
     "text": [
      "/content/drive/Shareddrives/Tieu_Quyen/Data_Science/Data Engineering/DE2\n"
     ]
    }
   ],
   "source": [
    "%cd \"...\" # insert your path here in Google Colab. Skip this one if using local "
   ]
  },
  {
   "cell_type": "markdown",
   "metadata": {
    "id": "vTK0O-ktpdWs"
   },
   "source": [
    "## Data collection API"
   ]
  },
  {
   "cell_type": "code",
   "execution_count": 24,
   "metadata": {
    "executionInfo": {
     "elapsed": 64,
     "status": "ok",
     "timestamp": 1639480894650,
     "user": {
      "displayName": "Quyen Nguyen",
      "photoUrl": "https://lh3.googleusercontent.com/a-/AOh14GhpkAUupTi7RsS7zfzAyg0vOvpdmdpwXF5WSk27FQ=s64",
      "userId": "10971023543073407512"
     },
     "user_tz": -60
    },
    "id": "OfhRcUMHphNm"
   },
   "outputs": [],
   "source": [
    "import requests\n",
    "import json\n",
    "from requests.auth import HTTPBasicAuth\n",
    "import pandas as pd\n",
    "from pandas.io.json import json_normalize"
   ]
  },
  {
   "cell_type": "code",
   "execution_count": 25,
   "metadata": {
    "executionInfo": {
     "elapsed": 63,
     "status": "ok",
     "timestamp": 1639480894651,
     "user": {
      "displayName": "Quyen Nguyen",
      "photoUrl": "https://lh3.googleusercontent.com/a-/AOh14GhpkAUupTi7RsS7zfzAyg0vOvpdmdpwXF5WSk27FQ=s64",
      "userId": "10971023543073407512"
     },
     "user_tz": -60
    },
    "id": "WLFQl5ZErCjm"
   },
   "outputs": [],
   "source": [
    "#: API key\n",
    "keyVal='xxx' #input your API key here\n",
    "auth = HTTPBasicAuth(keyVal, '')"
   ]
  },
  {
   "cell_type": "code",
   "execution_count": 26,
   "metadata": {
    "executionInfo": {
     "elapsed": 64,
     "status": "ok",
     "timestamp": 1639480894653,
     "user": {
      "displayName": "Quyen Nguyen",
      "photoUrl": "https://lh3.googleusercontent.com/a-/AOh14GhpkAUupTi7RsS7zfzAyg0vOvpdmdpwXF5WSk27FQ=s64",
      "userId": "10971023543073407512"
     },
     "user_tz": -60
    },
    "id": "ZflzOYwHrUS4"
   },
   "outputs": [],
   "source": [
    "# Trending media_type\n",
    "api_endpoint=f'https://api.themoviedb.org/3/discover/movie?api_key={keyVal}&language=en-US&sort_by=popularity.desc&include_adult=true&include_video=true&page=1&with_watch_monetization_types=flatrate'\n",
    "data=requests.get(api_endpoint, auth=auth).json()"
   ]
  },
  {
   "cell_type": "code",
   "execution_count": 27,
   "metadata": {
    "colab": {
     "base_uri": "https://localhost:8080/"
    },
    "executionInfo": {
     "elapsed": 64,
     "status": "ok",
     "timestamp": 1639480894654,
     "user": {
      "displayName": "Quyen Nguyen",
      "photoUrl": "https://lh3.googleusercontent.com/a-/AOh14GhpkAUupTi7RsS7zfzAyg0vOvpdmdpwXF5WSk27FQ=s64",
      "userId": "10971023543073407512"
     },
     "user_tz": -60
    },
    "id": "B1-3ulzyrWcq",
    "outputId": "8b1b3572-b63b-41f9-ef60-05a2ce008955"
   },
   "outputs": [
    {
     "data": {
      "text/plain": [
       "500"
      ]
     },
     "execution_count": 27,
     "metadata": {},
     "output_type": "execute_result"
    }
   ],
   "source": [
    "# Find out total number of pages\n",
    "api_endpoint=f'https://api.themoviedb.org/3/discover/movie?api_key={keyVal}&language=en-US&sort_by=popularity.desc&include_adult=true&include_video=true&page=1&with_watch_monetization_types=flatrate'\n",
    "data = requests.get(url=api_endpoint,auth=auth).json()\n",
    "total_pages = data['total_pages']\n",
    "total_pages"
   ]
  },
  {
   "cell_type": "code",
   "execution_count": 28,
   "metadata": {
    "executionInfo": {
     "elapsed": 101176,
     "status": "ok",
     "timestamp": 1639480995775,
     "user": {
      "displayName": "Quyen Nguyen",
      "photoUrl": "https://lh3.googleusercontent.com/a-/AOh14GhpkAUupTi7RsS7zfzAyg0vOvpdmdpwXF5WSk27FQ=s64",
      "userId": "10971023543073407512"
     },
     "user_tz": -60
    },
    "id": "ppn0qlE1rdEc"
   },
   "outputs": [],
   "source": [
    "data = pd.DataFrame([])\n",
    "for page in range (1, total_pages):\n",
    "    api_endpoint=f'https://api.themoviedb.org/3/discover/movie?api_key={keyVal}&language=en-US&sort_by=popularity.desc&include_adult=true&include_video=true&page={page}&with_watch_monetization_types=flatrate'\n",
    "    df=requests.get(api_endpoint, auth=auth).json()\n",
    "    df_new = pd.json_normalize(df['results'])\n",
    "    data = pd.concat([data, df_new])\n",
    "    page += 1"
   ]
  },
  {
   "cell_type": "code",
   "execution_count": 29,
   "metadata": {
    "colab": {
     "base_uri": "https://localhost:8080/"
    },
    "executionInfo": {
     "elapsed": 35,
     "status": "ok",
     "timestamp": 1639480995780,
     "user": {
      "displayName": "Quyen Nguyen",
      "photoUrl": "https://lh3.googleusercontent.com/a-/AOh14GhpkAUupTi7RsS7zfzAyg0vOvpdmdpwXF5WSk27FQ=s64",
      "userId": "10971023543073407512"
     },
     "user_tz": -60
    },
    "id": "iueNbuXMrhlr",
    "outputId": "926975d5-5cf6-4455-d024-66f17816f80f"
   },
   "outputs": [
    {
     "data": {
      "text/plain": [
       "adult                9980\n",
       "backdrop_path        9577\n",
       "genre_ids            9980\n",
       "id                   9980\n",
       "original_language    9980\n",
       "original_title       9980\n",
       "overview             9980\n",
       "popularity           9980\n",
       "poster_path          9939\n",
       "release_date         9969\n",
       "title                9980\n",
       "video                9980\n",
       "vote_average         9980\n",
       "vote_count           9980\n",
       "dtype: int64"
      ]
     },
     "execution_count": 29,
     "metadata": {},
     "output_type": "execute_result"
    }
   ],
   "source": [
    "data.count()"
   ]
  },
  {
   "cell_type": "markdown",
   "metadata": {
    "id": "OcnJujCtUtJ1"
   },
   "source": [
    "## Data Pre-processing\n",
    "It is because of big data that student's account can not handle, I just filtered to make it smaller size for next steps "
   ]
  },
  {
   "cell_type": "code",
   "execution_count": 30,
   "metadata": {
    "colab": {
     "base_uri": "https://localhost:8080/"
    },
    "executionInfo": {
     "elapsed": 28,
     "status": "ok",
     "timestamp": 1639480995782,
     "user": {
      "displayName": "Quyen Nguyen",
      "photoUrl": "https://lh3.googleusercontent.com/a-/AOh14GhpkAUupTi7RsS7zfzAyg0vOvpdmdpwXF5WSk27FQ=s64",
      "userId": "10971023543073407512"
     },
     "user_tz": -60
    },
    "id": "L6x1im2zFk97",
    "outputId": "5e711476-b3ff-4d92-a0da-a6e0034a2e87"
   },
   "outputs": [
    {
     "name": "stdout",
     "output_type": "stream",
     "text": [
      "<class 'pandas.core.frame.DataFrame'>\n",
      "Int64Index: 9980 entries, 0 to 19\n",
      "Data columns (total 9 columns):\n",
      " #   Column             Non-Null Count  Dtype  \n",
      "---  ------             --------------  -----  \n",
      " 0   adult              9980 non-null   bool   \n",
      " 1   id                 9980 non-null   int64  \n",
      " 2   original_language  9980 non-null   object \n",
      " 3   overview           9980 non-null   object \n",
      " 4   popularity         9980 non-null   float64\n",
      " 5   release_date       9969 non-null   object \n",
      " 6   title              9980 non-null   object \n",
      " 7   vote_average       9980 non-null   float64\n",
      " 8   vote_count         9980 non-null   int64  \n",
      "dtypes: bool(1), float64(2), int64(2), object(4)\n",
      "memory usage: 711.5+ KB\n"
     ]
    }
   ],
   "source": [
    "movie = data[['adult','id','original_language','overview','popularity','release_date','title','vote_average','vote_count']]\n",
    "movie.info()"
   ]
  },
  {
   "cell_type": "code",
   "execution_count": 31,
   "metadata": {
    "colab": {
     "base_uri": "https://localhost:8080/",
     "height": 403
    },
    "executionInfo": {
     "elapsed": 25,
     "status": "ok",
     "timestamp": 1639480995783,
     "user": {
      "displayName": "Quyen Nguyen",
      "photoUrl": "https://lh3.googleusercontent.com/a-/AOh14GhpkAUupTi7RsS7zfzAyg0vOvpdmdpwXF5WSk27FQ=s64",
      "userId": "10971023543073407512"
     },
     "user_tz": -60
    },
    "id": "EFsnYc-HGB2s",
    "outputId": "c68e5bf4-46ba-4986-dec1-ae807aa5bb6d"
   },
   "outputs": [
    {
     "name": "stderr",
     "output_type": "stream",
     "text": [
      "/usr/local/lib/python3.7/dist-packages/ipykernel_launcher.py:1: SettingWithCopyWarning: \n",
      "A value is trying to be set on a copy of a slice from a DataFrame.\n",
      "Try using .loc[row_indexer,col_indexer] = value instead\n",
      "\n",
      "See the caveats in the documentation: https://pandas.pydata.org/pandas-docs/stable/user_guide/indexing.html#returning-a-view-versus-a-copy\n",
      "  \"\"\"Entry point for launching an IPython kernel.\n"
     ]
    },
    {
     "data": {
      "text/html": [
       "<div>\n",
       "<style scoped>\n",
       "    .dataframe tbody tr th:only-of-type {\n",
       "        vertical-align: middle;\n",
       "    }\n",
       "\n",
       "    .dataframe tbody tr th {\n",
       "        vertical-align: top;\n",
       "    }\n",
       "\n",
       "    .dataframe thead th {\n",
       "        text-align: right;\n",
       "    }\n",
       "</style>\n",
       "<table border=\"1\" class=\"dataframe\">\n",
       "  <thead>\n",
       "    <tr style=\"text-align: right;\">\n",
       "      <th></th>\n",
       "      <th>adult</th>\n",
       "      <th>id</th>\n",
       "      <th>original_language</th>\n",
       "      <th>overview</th>\n",
       "      <th>popularity</th>\n",
       "      <th>release_date</th>\n",
       "      <th>title</th>\n",
       "      <th>vote_average</th>\n",
       "      <th>vote_count</th>\n",
       "      <th>year</th>\n",
       "    </tr>\n",
       "  </thead>\n",
       "  <tbody>\n",
       "    <tr>\n",
       "      <th>0</th>\n",
       "      <td>False</td>\n",
       "      <td>580489</td>\n",
       "      <td>en</td>\n",
       "      <td>After finding a host body in investigative rep...</td>\n",
       "      <td>7235.697</td>\n",
       "      <td>2021-09-30</td>\n",
       "      <td>Venom: Let There Be Carnage</td>\n",
       "      <td>7.2</td>\n",
       "      <td>4451</td>\n",
       "      <td>2021.0</td>\n",
       "    </tr>\n",
       "    <tr>\n",
       "      <th>1</th>\n",
       "      <td>False</td>\n",
       "      <td>512195</td>\n",
       "      <td>en</td>\n",
       "      <td>An Interpol-issued Red Notice is a global aler...</td>\n",
       "      <td>4394.992</td>\n",
       "      <td>2021-11-04</td>\n",
       "      <td>Red Notice</td>\n",
       "      <td>6.8</td>\n",
       "      <td>1997</td>\n",
       "      <td>2021.0</td>\n",
       "    </tr>\n",
       "    <tr>\n",
       "      <th>2</th>\n",
       "      <td>False</td>\n",
       "      <td>617653</td>\n",
       "      <td>en</td>\n",
       "      <td>King Charles VI declares that Knight Jean de C...</td>\n",
       "      <td>2478.809</td>\n",
       "      <td>2021-10-13</td>\n",
       "      <td>The Last Duel</td>\n",
       "      <td>7.6</td>\n",
       "      <td>904</td>\n",
       "      <td>2021.0</td>\n",
       "    </tr>\n",
       "    <tr>\n",
       "      <th>3</th>\n",
       "      <td>False</td>\n",
       "      <td>566525</td>\n",
       "      <td>en</td>\n",
       "      <td>Shang-Chi must confront the past he thought he...</td>\n",
       "      <td>2639.797</td>\n",
       "      <td>2021-09-01</td>\n",
       "      <td>Shang-Chi and the Legend of the Ten Rings</td>\n",
       "      <td>7.8</td>\n",
       "      <td>4226</td>\n",
       "      <td>2021.0</td>\n",
       "    </tr>\n",
       "    <tr>\n",
       "      <th>4</th>\n",
       "      <td>False</td>\n",
       "      <td>568124</td>\n",
       "      <td>en</td>\n",
       "      <td>The tale of an extraordinary family, the Madri...</td>\n",
       "      <td>2639.096</td>\n",
       "      <td>2021-11-24</td>\n",
       "      <td>Encanto</td>\n",
       "      <td>7.4</td>\n",
       "      <td>316</td>\n",
       "      <td>2021.0</td>\n",
       "    </tr>\n",
       "  </tbody>\n",
       "</table>\n",
       "</div>"
      ],
      "text/plain": [
       "   adult      id original_language  ... vote_average  vote_count    year\n",
       "0  False  580489                en  ...          7.2        4451  2021.0\n",
       "1  False  512195                en  ...          6.8        1997  2021.0\n",
       "2  False  617653                en  ...          7.6         904  2021.0\n",
       "3  False  566525                en  ...          7.8        4226  2021.0\n",
       "4  False  568124                en  ...          7.4         316  2021.0\n",
       "\n",
       "[5 rows x 10 columns]"
      ]
     },
     "execution_count": 31,
     "metadata": {},
     "output_type": "execute_result"
    }
   ],
   "source": [
    "movie['year'] = pd.to_datetime(movie['release_date']).dt.year\n",
    "movie.head()\n"
   ]
  },
  {
   "cell_type": "code",
   "execution_count": 32,
   "metadata": {
    "colab": {
     "base_uri": "https://localhost:8080/",
     "height": 403
    },
    "executionInfo": {
     "elapsed": 18,
     "status": "ok",
     "timestamp": 1639480995783,
     "user": {
      "displayName": "Quyen Nguyen",
      "photoUrl": "https://lh3.googleusercontent.com/a-/AOh14GhpkAUupTi7RsS7zfzAyg0vOvpdmdpwXF5WSk27FQ=s64",
      "userId": "10971023543073407512"
     },
     "user_tz": -60
    },
    "id": "gIiUwheaHfJ5",
    "outputId": "3bcd4836-a9ae-410e-9783-ab798d1251b3"
   },
   "outputs": [
    {
     "name": "stderr",
     "output_type": "stream",
     "text": [
      "/usr/local/lib/python3.7/dist-packages/ipykernel_launcher.py:1: SettingWithCopyWarning: \n",
      "A value is trying to be set on a copy of a slice from a DataFrame.\n",
      "Try using .loc[row_indexer,col_indexer] = value instead\n",
      "\n",
      "See the caveats in the documentation: https://pandas.pydata.org/pandas-docs/stable/user_guide/indexing.html#returning-a-view-versus-a-copy\n",
      "  \"\"\"Entry point for launching an IPython kernel.\n"
     ]
    },
    {
     "data": {
      "text/html": [
       "<div>\n",
       "<style scoped>\n",
       "    .dataframe tbody tr th:only-of-type {\n",
       "        vertical-align: middle;\n",
       "    }\n",
       "\n",
       "    .dataframe tbody tr th {\n",
       "        vertical-align: top;\n",
       "    }\n",
       "\n",
       "    .dataframe thead th {\n",
       "        text-align: right;\n",
       "    }\n",
       "</style>\n",
       "<table border=\"1\" class=\"dataframe\">\n",
       "  <thead>\n",
       "    <tr style=\"text-align: right;\">\n",
       "      <th></th>\n",
       "      <th>adult</th>\n",
       "      <th>id</th>\n",
       "      <th>original_language</th>\n",
       "      <th>overview</th>\n",
       "      <th>popularity</th>\n",
       "      <th>release_date</th>\n",
       "      <th>title</th>\n",
       "      <th>vote_average</th>\n",
       "      <th>vote_count</th>\n",
       "      <th>year</th>\n",
       "      <th>month</th>\n",
       "    </tr>\n",
       "  </thead>\n",
       "  <tbody>\n",
       "    <tr>\n",
       "      <th>0</th>\n",
       "      <td>False</td>\n",
       "      <td>580489</td>\n",
       "      <td>en</td>\n",
       "      <td>After finding a host body in investigative rep...</td>\n",
       "      <td>7235.697</td>\n",
       "      <td>2021-09-30</td>\n",
       "      <td>Venom: Let There Be Carnage</td>\n",
       "      <td>7.2</td>\n",
       "      <td>4451</td>\n",
       "      <td>2021.0</td>\n",
       "      <td>9.0</td>\n",
       "    </tr>\n",
       "    <tr>\n",
       "      <th>1</th>\n",
       "      <td>False</td>\n",
       "      <td>512195</td>\n",
       "      <td>en</td>\n",
       "      <td>An Interpol-issued Red Notice is a global aler...</td>\n",
       "      <td>4394.992</td>\n",
       "      <td>2021-11-04</td>\n",
       "      <td>Red Notice</td>\n",
       "      <td>6.8</td>\n",
       "      <td>1997</td>\n",
       "      <td>2021.0</td>\n",
       "      <td>11.0</td>\n",
       "    </tr>\n",
       "    <tr>\n",
       "      <th>2</th>\n",
       "      <td>False</td>\n",
       "      <td>617653</td>\n",
       "      <td>en</td>\n",
       "      <td>King Charles VI declares that Knight Jean de C...</td>\n",
       "      <td>2478.809</td>\n",
       "      <td>2021-10-13</td>\n",
       "      <td>The Last Duel</td>\n",
       "      <td>7.6</td>\n",
       "      <td>904</td>\n",
       "      <td>2021.0</td>\n",
       "      <td>10.0</td>\n",
       "    </tr>\n",
       "    <tr>\n",
       "      <th>3</th>\n",
       "      <td>False</td>\n",
       "      <td>566525</td>\n",
       "      <td>en</td>\n",
       "      <td>Shang-Chi must confront the past he thought he...</td>\n",
       "      <td>2639.797</td>\n",
       "      <td>2021-09-01</td>\n",
       "      <td>Shang-Chi and the Legend of the Ten Rings</td>\n",
       "      <td>7.8</td>\n",
       "      <td>4226</td>\n",
       "      <td>2021.0</td>\n",
       "      <td>9.0</td>\n",
       "    </tr>\n",
       "    <tr>\n",
       "      <th>4</th>\n",
       "      <td>False</td>\n",
       "      <td>568124</td>\n",
       "      <td>en</td>\n",
       "      <td>The tale of an extraordinary family, the Madri...</td>\n",
       "      <td>2639.096</td>\n",
       "      <td>2021-11-24</td>\n",
       "      <td>Encanto</td>\n",
       "      <td>7.4</td>\n",
       "      <td>316</td>\n",
       "      <td>2021.0</td>\n",
       "      <td>11.0</td>\n",
       "    </tr>\n",
       "  </tbody>\n",
       "</table>\n",
       "</div>"
      ],
      "text/plain": [
       "   adult      id original_language  ... vote_count    year month\n",
       "0  False  580489                en  ...       4451  2021.0   9.0\n",
       "1  False  512195                en  ...       1997  2021.0  11.0\n",
       "2  False  617653                en  ...        904  2021.0  10.0\n",
       "3  False  566525                en  ...       4226  2021.0   9.0\n",
       "4  False  568124                en  ...        316  2021.0  11.0\n",
       "\n",
       "[5 rows x 11 columns]"
      ]
     },
     "execution_count": 32,
     "metadata": {},
     "output_type": "execute_result"
    }
   ],
   "source": [
    "movie['month'] = pd.to_datetime(movie['release_date']).dt.month\n",
    "movie.head()"
   ]
  },
  {
   "cell_type": "code",
   "execution_count": 33,
   "metadata": {
    "colab": {
     "base_uri": "https://localhost:8080/"
    },
    "executionInfo": {
     "elapsed": 352,
     "status": "ok",
     "timestamp": 1639480996120,
     "user": {
      "displayName": "Quyen Nguyen",
      "photoUrl": "https://lh3.googleusercontent.com/a-/AOh14GhpkAUupTi7RsS7zfzAyg0vOvpdmdpwXF5WSk27FQ=s64",
      "userId": "10971023543073407512"
     },
     "user_tz": -60
    },
    "id": "kpjMDDLrJcZ_",
    "outputId": "b61ebba1-d881-493f-a017-c5a4fe587065"
   },
   "outputs": [
    {
     "name": "stdout",
     "output_type": "stream",
     "text": [
      "<class 'pandas.core.frame.DataFrame'>\n",
      "Int64Index: 9980 entries, 0 to 19\n",
      "Data columns (total 11 columns):\n",
      " #   Column             Non-Null Count  Dtype  \n",
      "---  ------             --------------  -----  \n",
      " 0   adult              515 non-null    float64\n",
      " 1   id                 515 non-null    float64\n",
      " 2   original_language  515 non-null    object \n",
      " 3   overview           515 non-null    object \n",
      " 4   popularity         515 non-null    float64\n",
      " 5   release_date       515 non-null    object \n",
      " 6   title              515 non-null    object \n",
      " 7   vote_average       515 non-null    float64\n",
      " 8   vote_count         515 non-null    float64\n",
      " 9   year               515 non-null    float64\n",
      " 10  month              515 non-null    float64\n",
      "dtypes: float64(7), object(4)\n",
      "memory usage: 935.6+ KB\n"
     ]
    }
   ],
   "source": [
    "movie_list = movie.where((movie['original_language']=='en') & (movie['year']==2021) & (movie['vote_count']>0))\n",
    "movie_list.info()"
   ]
  },
  {
   "cell_type": "code",
   "execution_count": 34,
   "metadata": {
    "colab": {
     "base_uri": "https://localhost:8080/",
     "height": 293
    },
    "executionInfo": {
     "elapsed": 23,
     "status": "ok",
     "timestamp": 1639480996122,
     "user": {
      "displayName": "Quyen Nguyen",
      "photoUrl": "https://lh3.googleusercontent.com/a-/AOh14GhpkAUupTi7RsS7zfzAyg0vOvpdmdpwXF5WSk27FQ=s64",
      "userId": "10971023543073407512"
     },
     "user_tz": -60
    },
    "id": "3joKKb_hOlVV",
    "outputId": "51109cc7-aa35-410a-9bb3-0741fcfa97bf"
   },
   "outputs": [
    {
     "data": {
      "text/html": [
       "<div>\n",
       "<style scoped>\n",
       "    .dataframe tbody tr th:only-of-type {\n",
       "        vertical-align: middle;\n",
       "    }\n",
       "\n",
       "    .dataframe tbody tr th {\n",
       "        vertical-align: top;\n",
       "    }\n",
       "\n",
       "    .dataframe thead th {\n",
       "        text-align: right;\n",
       "    }\n",
       "</style>\n",
       "<table border=\"1\" class=\"dataframe\">\n",
       "  <thead>\n",
       "    <tr style=\"text-align: right;\">\n",
       "      <th></th>\n",
       "      <th>adult</th>\n",
       "      <th>id</th>\n",
       "      <th>original_language</th>\n",
       "      <th>overview</th>\n",
       "      <th>popularity</th>\n",
       "      <th>release_date</th>\n",
       "      <th>title</th>\n",
       "      <th>vote_average</th>\n",
       "      <th>vote_count</th>\n",
       "      <th>year</th>\n",
       "      <th>month</th>\n",
       "    </tr>\n",
       "  </thead>\n",
       "  <tbody>\n",
       "    <tr>\n",
       "      <th>0</th>\n",
       "      <td>0.0</td>\n",
       "      <td>580489.0</td>\n",
       "      <td>en</td>\n",
       "      <td>After finding a host body in investigative rep...</td>\n",
       "      <td>7235.697</td>\n",
       "      <td>2021-09-30</td>\n",
       "      <td>Venom: Let There Be Carnage</td>\n",
       "      <td>7.2</td>\n",
       "      <td>4451.0</td>\n",
       "      <td>2021.0</td>\n",
       "      <td>9.0</td>\n",
       "    </tr>\n",
       "    <tr>\n",
       "      <th>1</th>\n",
       "      <td>0.0</td>\n",
       "      <td>512195.0</td>\n",
       "      <td>en</td>\n",
       "      <td>An Interpol-issued Red Notice is a global aler...</td>\n",
       "      <td>4394.992</td>\n",
       "      <td>2021-11-04</td>\n",
       "      <td>Red Notice</td>\n",
       "      <td>6.8</td>\n",
       "      <td>1997.0</td>\n",
       "      <td>2021.0</td>\n",
       "      <td>11.0</td>\n",
       "    </tr>\n",
       "    <tr>\n",
       "      <th>2</th>\n",
       "      <td>0.0</td>\n",
       "      <td>617653.0</td>\n",
       "      <td>en</td>\n",
       "      <td>King Charles VI declares that Knight Jean de C...</td>\n",
       "      <td>2478.809</td>\n",
       "      <td>2021-10-13</td>\n",
       "      <td>The Last Duel</td>\n",
       "      <td>7.6</td>\n",
       "      <td>904.0</td>\n",
       "      <td>2021.0</td>\n",
       "      <td>10.0</td>\n",
       "    </tr>\n",
       "    <tr>\n",
       "      <th>3</th>\n",
       "      <td>0.0</td>\n",
       "      <td>566525.0</td>\n",
       "      <td>en</td>\n",
       "      <td>Shang-Chi must confront the past he thought he...</td>\n",
       "      <td>2639.797</td>\n",
       "      <td>2021-09-01</td>\n",
       "      <td>Shang-Chi and the Legend of the Ten Rings</td>\n",
       "      <td>7.8</td>\n",
       "      <td>4226.0</td>\n",
       "      <td>2021.0</td>\n",
       "      <td>9.0</td>\n",
       "    </tr>\n",
       "    <tr>\n",
       "      <th>4</th>\n",
       "      <td>0.0</td>\n",
       "      <td>568124.0</td>\n",
       "      <td>en</td>\n",
       "      <td>The tale of an extraordinary family, the Madri...</td>\n",
       "      <td>2639.096</td>\n",
       "      <td>2021-11-24</td>\n",
       "      <td>Encanto</td>\n",
       "      <td>7.4</td>\n",
       "      <td>316.0</td>\n",
       "      <td>2021.0</td>\n",
       "      <td>11.0</td>\n",
       "    </tr>\n",
       "  </tbody>\n",
       "</table>\n",
       "</div>"
      ],
      "text/plain": [
       "   adult        id original_language  ... vote_count    year month\n",
       "0    0.0  580489.0                en  ...     4451.0  2021.0   9.0\n",
       "1    0.0  512195.0                en  ...     1997.0  2021.0  11.0\n",
       "2    0.0  617653.0                en  ...      904.0  2021.0  10.0\n",
       "3    0.0  566525.0                en  ...     4226.0  2021.0   9.0\n",
       "4    0.0  568124.0                en  ...      316.0  2021.0  11.0\n",
       "\n",
       "[5 rows x 11 columns]"
      ]
     },
     "execution_count": 34,
     "metadata": {},
     "output_type": "execute_result"
    }
   ],
   "source": [
    "movie_list=movie_list.dropna(how='any') \n",
    "movie_list.head()"
   ]
  },
  {
   "cell_type": "code",
   "execution_count": 35,
   "metadata": {
    "colab": {
     "base_uri": "https://localhost:8080/"
    },
    "executionInfo": {
     "elapsed": 23,
     "status": "ok",
     "timestamp": 1639480996123,
     "user": {
      "displayName": "Quyen Nguyen",
      "photoUrl": "https://lh3.googleusercontent.com/a-/AOh14GhpkAUupTi7RsS7zfzAyg0vOvpdmdpwXF5WSk27FQ=s64",
      "userId": "10971023543073407512"
     },
     "user_tz": -60
    },
    "id": "oDPj7XhpQDVG",
    "outputId": "72083626-7984-4831-8b3d-88900d025aca"
   },
   "outputs": [
    {
     "name": "stdout",
     "output_type": "stream",
     "text": [
      "<class 'pandas.core.frame.DataFrame'>\n",
      "Int64Index: 515 entries, 0 to 5\n",
      "Data columns (total 11 columns):\n",
      " #   Column             Non-Null Count  Dtype  \n",
      "---  ------             --------------  -----  \n",
      " 0   adult              515 non-null    float64\n",
      " 1   id                 515 non-null    float64\n",
      " 2   original_language  515 non-null    object \n",
      " 3   overview           515 non-null    object \n",
      " 4   popularity         515 non-null    float64\n",
      " 5   release_date       515 non-null    object \n",
      " 6   title              515 non-null    object \n",
      " 7   vote_average       515 non-null    float64\n",
      " 8   vote_count         515 non-null    float64\n",
      " 9   year               515 non-null    float64\n",
      " 10  month              515 non-null    float64\n",
      "dtypes: float64(7), object(4)\n",
      "memory usage: 48.3+ KB\n"
     ]
    }
   ],
   "source": [
    "movie_list=movie_list.drop_duplicates()\n",
    "movie_list.info()"
   ]
  },
  {
   "cell_type": "code",
   "execution_count": 36,
   "metadata": {
    "colab": {
     "base_uri": "https://localhost:8080/",
     "height": 206
    },
    "executionInfo": {
     "elapsed": 19,
     "status": "ok",
     "timestamp": 1639480996124,
     "user": {
      "displayName": "Quyen Nguyen",
      "photoUrl": "https://lh3.googleusercontent.com/a-/AOh14GhpkAUupTi7RsS7zfzAyg0vOvpdmdpwXF5WSk27FQ=s64",
      "userId": "10971023543073407512"
     },
     "user_tz": -60
    },
    "id": "HzGMDzU_QzsO",
    "outputId": "54c32960-ea03-45f3-9a61-5b7f9828a1b2"
   },
   "outputs": [
    {
     "data": {
      "text/html": [
       "<div>\n",
       "<style scoped>\n",
       "    .dataframe tbody tr th:only-of-type {\n",
       "        vertical-align: middle;\n",
       "    }\n",
       "\n",
       "    .dataframe tbody tr th {\n",
       "        vertical-align: top;\n",
       "    }\n",
       "\n",
       "    .dataframe thead th {\n",
       "        text-align: right;\n",
       "    }\n",
       "</style>\n",
       "<table border=\"1\" class=\"dataframe\">\n",
       "  <thead>\n",
       "    <tr style=\"text-align: right;\">\n",
       "      <th></th>\n",
       "      <th>adult</th>\n",
       "      <th>id</th>\n",
       "      <th>overview</th>\n",
       "      <th>popularity</th>\n",
       "      <th>release_date</th>\n",
       "      <th>title</th>\n",
       "      <th>vote_average</th>\n",
       "      <th>vote_count</th>\n",
       "    </tr>\n",
       "  </thead>\n",
       "  <tbody>\n",
       "    <tr>\n",
       "      <th>0</th>\n",
       "      <td>0.0</td>\n",
       "      <td>580489.0</td>\n",
       "      <td>After finding a host body in investigative rep...</td>\n",
       "      <td>7235.697</td>\n",
       "      <td>2021-09-30</td>\n",
       "      <td>Venom: Let There Be Carnage</td>\n",
       "      <td>7.2</td>\n",
       "      <td>4451.0</td>\n",
       "    </tr>\n",
       "    <tr>\n",
       "      <th>1</th>\n",
       "      <td>0.0</td>\n",
       "      <td>512195.0</td>\n",
       "      <td>An Interpol-issued Red Notice is a global aler...</td>\n",
       "      <td>4394.992</td>\n",
       "      <td>2021-11-04</td>\n",
       "      <td>Red Notice</td>\n",
       "      <td>6.8</td>\n",
       "      <td>1997.0</td>\n",
       "    </tr>\n",
       "    <tr>\n",
       "      <th>2</th>\n",
       "      <td>0.0</td>\n",
       "      <td>617653.0</td>\n",
       "      <td>King Charles VI declares that Knight Jean de C...</td>\n",
       "      <td>2478.809</td>\n",
       "      <td>2021-10-13</td>\n",
       "      <td>The Last Duel</td>\n",
       "      <td>7.6</td>\n",
       "      <td>904.0</td>\n",
       "    </tr>\n",
       "    <tr>\n",
       "      <th>3</th>\n",
       "      <td>0.0</td>\n",
       "      <td>566525.0</td>\n",
       "      <td>Shang-Chi must confront the past he thought he...</td>\n",
       "      <td>2639.797</td>\n",
       "      <td>2021-09-01</td>\n",
       "      <td>Shang-Chi and the Legend of the Ten Rings</td>\n",
       "      <td>7.8</td>\n",
       "      <td>4226.0</td>\n",
       "    </tr>\n",
       "    <tr>\n",
       "      <th>4</th>\n",
       "      <td>0.0</td>\n",
       "      <td>568124.0</td>\n",
       "      <td>The tale of an extraordinary family, the Madri...</td>\n",
       "      <td>2639.096</td>\n",
       "      <td>2021-11-24</td>\n",
       "      <td>Encanto</td>\n",
       "      <td>7.4</td>\n",
       "      <td>316.0</td>\n",
       "    </tr>\n",
       "  </tbody>\n",
       "</table>\n",
       "</div>"
      ],
      "text/plain": [
       "   adult        id  ... vote_average  vote_count\n",
       "0    0.0  580489.0  ...          7.2      4451.0\n",
       "1    0.0  512195.0  ...          6.8      1997.0\n",
       "2    0.0  617653.0  ...          7.6       904.0\n",
       "3    0.0  566525.0  ...          7.8      4226.0\n",
       "4    0.0  568124.0  ...          7.4       316.0\n",
       "\n",
       "[5 rows x 8 columns]"
      ]
     },
     "execution_count": 36,
     "metadata": {},
     "output_type": "execute_result"
    }
   ],
   "source": [
    "final_movie = movie_list[['adult','id','overview','popularity','release_date','title','vote_average','vote_count']]\n",
    "final_movie.head()"
   ]
  },
  {
   "cell_type": "code",
   "execution_count": 37,
   "metadata": {
    "colab": {
     "base_uri": "https://localhost:8080/"
    },
    "executionInfo": {
     "elapsed": 19,
     "status": "ok",
     "timestamp": 1639480996126,
     "user": {
      "displayName": "Quyen Nguyen",
      "photoUrl": "https://lh3.googleusercontent.com/a-/AOh14GhpkAUupTi7RsS7zfzAyg0vOvpdmdpwXF5WSk27FQ=s64",
      "userId": "10971023543073407512"
     },
     "user_tz": -60
    },
    "id": "uRojE7AWV88d",
    "outputId": "e4ad0e38-8109-4202-8d1f-cefe2e70362c"
   },
   "outputs": [
    {
     "name": "stdout",
     "output_type": "stream",
     "text": [
      "<class 'pandas.core.frame.DataFrame'>\n",
      "Int64Index: 515 entries, 0 to 5\n",
      "Data columns (total 8 columns):\n",
      " #   Column        Non-Null Count  Dtype  \n",
      "---  ------        --------------  -----  \n",
      " 0   adult         515 non-null    float64\n",
      " 1   id            515 non-null    float64\n",
      " 2   overview      515 non-null    object \n",
      " 3   popularity    515 non-null    float64\n",
      " 4   release_date  515 non-null    object \n",
      " 5   title         515 non-null    object \n",
      " 6   vote_average  515 non-null    float64\n",
      " 7   vote_count    515 non-null    float64\n",
      "dtypes: float64(5), object(3)\n",
      "memory usage: 36.2+ KB\n"
     ]
    }
   ],
   "source": [
    "final_movie.info()"
   ]
  },
  {
   "cell_type": "markdown",
   "metadata": {
    "id": "PmA72kYGVKxM"
   },
   "source": [
    "## Load data to GCP\n",
    "This step is to load data directly to Google Cloud Platform (Database)"
   ]
  },
  {
   "cell_type": "code",
   "execution_count": 38,
   "metadata": {
    "colab": {
     "base_uri": "https://localhost:8080/"
    },
    "executionInfo": {
     "elapsed": 5095,
     "status": "ok",
     "timestamp": 1639481001205,
     "user": {
      "displayName": "Quyen Nguyen",
      "photoUrl": "https://lh3.googleusercontent.com/a-/AOh14GhpkAUupTi7RsS7zfzAyg0vOvpdmdpwXF5WSk27FQ=s64",
      "userId": "10971023543073407512"
     },
     "user_tz": -60
    },
    "id": "umU_NPfKI4t8",
    "outputId": "121e4966-ec8b-4172-e13d-42c13ac3705c"
   },
   "outputs": [
    {
     "name": "stderr",
     "output_type": "stream",
     "text": [
      "1it [00:03,  3.34s/it]\n"
     ]
    }
   ],
   "source": [
    "final_movie.to_gbq(destination_table='movie_dataset.table_name', # input your dataset.table_name here\n",
    "                   project_id='xxx', # input your project id here\n",
    "                   if_exists='replace')"
   ]
  }
 ],
 "metadata": {
  "colab": {
   "authorship_tag": "ABX9TyNdmUCY1FKNGg7rYKiUgF62",
   "collapsed_sections": [],
   "name": "Data Collection to Big Query.ipynb",
   "provenance": []
  },
  "kernelspec": {
   "display_name": "Python 3",
   "language": "python",
   "name": "python3"
  },
  "language_info": {
   "codemirror_mode": {
    "name": "ipython",
    "version": 3
   },
   "file_extension": ".py",
   "mimetype": "text/x-python",
   "name": "python",
   "nbconvert_exporter": "python",
   "pygments_lexer": "ipython3",
   "version": "3.7.6"
  }
 },
 "nbformat": 4,
 "nbformat_minor": 1
}
